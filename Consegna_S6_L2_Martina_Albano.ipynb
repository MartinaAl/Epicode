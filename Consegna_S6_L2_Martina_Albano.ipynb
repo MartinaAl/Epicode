{
  "nbformat": 4,
  "nbformat_minor": 0,
  "metadata": {
    "colab": {
      "provenance": []
    },
    "kernelspec": {
      "name": "python3",
      "display_name": "Python 3"
    },
    "language_info": {
      "name": "python"
    }
  },
  "cells": [
    {
      "cell_type": "code",
      "source": [
        "import numpy as np"
      ],
      "metadata": {
        "id": "NMTfyHxJ8wjL"
      },
      "execution_count": null,
      "outputs": []
    },
    {
      "cell_type": "markdown",
      "source": [
        "Abbiamo una lista di liste: mat = [[0, 1, 2, 3, 4], [5, 6, 7, 8, 9], [10, 11, 12, 13, 14]] Che tipo di struttura dati o matematica potrebbe rappresentare? Notare che tutte le liste \"interne\" sono della stessa dimensione Come facciamo per accedere ad un elemento in particolare?"
      ],
      "metadata": {
        "id": "e9SptO3jTZ4K"
      }
    },
    {
      "cell_type": "code",
      "execution_count": null,
      "metadata": {
        "id": "R-7VSMvj8pGj"
      },
      "outputs": [],
      "source": [
        "#è una matrice\n",
        "mat = [[0, 1, 2, 3, 4], [5, 6, 7, 8, 9], [10, 11, 12, 13, 14]]"
      ]
    },
    {
      "cell_type": "code",
      "source": [
        "type(mat)"
      ],
      "metadata": {
        "colab": {
          "base_uri": "https://localhost:8080/"
        },
        "id": "asBYhDGy8zBP",
        "outputId": "5959d2db-6434-4a12-d434-8e4d95562a24"
      },
      "execution_count": null,
      "outputs": [
        {
          "output_type": "execute_result",
          "data": {
            "text/plain": [
              "list"
            ]
          },
          "metadata": {},
          "execution_count": 5
        }
      ]
    },
    {
      "cell_type": "code",
      "source": [
        "#in primo luogo si considera che gli elementi sono rappresentati da 3 liste\n",
        "#per accedere all'elemento si può fare indicando la posizione dell'indice dell'elemento\n",
        "\n",
        "mat[2] #accedo al terzo elemento con l'indice 2"
      ],
      "metadata": {
        "colab": {
          "base_uri": "https://localhost:8080/"
        },
        "id": "mCAoqPFp80nx",
        "outputId": "2143e435-6f91-4ce1-a819-6b6e87f2780d"
      },
      "execution_count": null,
      "outputs": [
        {
          "output_type": "execute_result",
          "data": {
            "text/plain": [
              "[10, 11, 12, 13, 14]"
            ]
          },
          "metadata": {},
          "execution_count": 6
        }
      ]
    },
    {
      "cell_type": "code",
      "source": [
        "#trasformazione della lista in array\n",
        "mat = np.array(mat)\n",
        "mat"
      ],
      "metadata": {
        "colab": {
          "base_uri": "https://localhost:8080/"
        },
        "id": "lilLu63Y-ydu",
        "outputId": "097a41bb-a30f-40d0-82f3-07b7ac0cc1ca"
      },
      "execution_count": null,
      "outputs": [
        {
          "output_type": "execute_result",
          "data": {
            "text/plain": [
              "array([[ 0,  1,  2,  3,  4],\n",
              "       [ 5,  6,  7,  8,  9],\n",
              "       [10, 11, 12, 13, 14]])"
            ]
          },
          "metadata": {},
          "execution_count": 16
        }
      ]
    },
    {
      "cell_type": "code",
      "source": [
        "#anche nel caso dell'array si accede come nella lista con l'indice,dando la posizione dell'elemento, in questo caso accedo al secondo elemento con 1\n",
        "mat[1]"
      ],
      "metadata": {
        "colab": {
          "base_uri": "https://localhost:8080/"
        },
        "id": "Gy-7lScY_nPx",
        "outputId": "eaf15bb9-30ad-48a7-dfa1-acdb755a4627"
      },
      "execution_count": null,
      "outputs": [
        {
          "output_type": "execute_result",
          "data": {
            "text/plain": [
              "array([5, 6, 7, 8, 9])"
            ]
          },
          "metadata": {},
          "execution_count": 18
        }
      ]
    },
    {
      "cell_type": "markdown",
      "source": [
        "Abbiamo il seguente array NumPy: linear_data = np.array([x for x in range(27)]) Lo ridimensioniamo mediante il metodo .reshape(): reshaped_data = linear_data.reshape((3, 3, 3)) Quante dimensioni ha il nuovo array? Come facciamo per accedere ai singoli elementi?"
      ],
      "metadata": {
        "id": "WfDQ2dPFJRiV"
      }
    },
    {
      "cell_type": "code",
      "source": [
        "linear_data = np.array([x for x in range(27)])\n",
        "reshaped_data = linear_data.reshape(3, 3, 3)"
      ],
      "metadata": {
        "id": "PPUgCeSZDR9G"
      },
      "execution_count": null,
      "outputs": []
    },
    {
      "cell_type": "code",
      "source": [
        "linear_data"
      ],
      "metadata": {
        "colab": {
          "base_uri": "https://localhost:8080/"
        },
        "id": "6FUqNVmsJhur",
        "outputId": "b88e31cc-2d3a-4074-ed70-77aed4b729ca"
      },
      "execution_count": null,
      "outputs": [
        {
          "output_type": "execute_result",
          "data": {
            "text/plain": [
              "array([ 0,  1,  2,  3,  4,  5,  6,  7,  8,  9, 10, 11, 12, 13, 14, 15, 16,\n",
              "       17, 18, 19, 20, 21, 22, 23, 24, 25, 26])"
            ]
          },
          "metadata": {},
          "execution_count": 40
        }
      ]
    },
    {
      "cell_type": "code",
      "source": [
        "reshaped_data"
      ],
      "metadata": {
        "colab": {
          "base_uri": "https://localhost:8080/"
        },
        "id": "fSdaq_y2JiMa",
        "outputId": "5cfb0a89-4d9f-47a2-a573-dc20ff689516"
      },
      "execution_count": null,
      "outputs": [
        {
          "output_type": "execute_result",
          "data": {
            "text/plain": [
              "array([[[ 0,  1,  2],\n",
              "        [ 3,  4,  5],\n",
              "        [ 6,  7,  8]],\n",
              "\n",
              "       [[ 9, 10, 11],\n",
              "        [12, 13, 14],\n",
              "        [15, 16, 17]],\n",
              "\n",
              "       [[18, 19, 20],\n",
              "        [21, 22, 23],\n",
              "        [24, 25, 26]]])"
            ]
          },
          "metadata": {},
          "execution_count": 41
        }
      ]
    },
    {
      "cell_type": "code",
      "source": [
        "#ha tre dimensioni\n",
        "len(reshaped_data)"
      ],
      "metadata": {
        "colab": {
          "base_uri": "https://localhost:8080/"
        },
        "id": "duzGEmlqJGkC",
        "outputId": "48188336-545f-4b40-8910-fc32beb066da"
      },
      "execution_count": null,
      "outputs": [
        {
          "output_type": "execute_result",
          "data": {
            "text/plain": [
              "3"
            ]
          },
          "metadata": {},
          "execution_count": 42
        }
      ]
    },
    {
      "cell_type": "code",
      "source": [
        "#per accedere agli elementi lo si fa con l'indicizzazione tridimensionale:\n",
        "reshaped_data[0,1,2] #per esempio, 0 va' alla prima dimensione, 1 rappresenta la seconda riga infine 2 la terza colonna"
      ],
      "metadata": {
        "colab": {
          "base_uri": "https://localhost:8080/"
        },
        "id": "s6L5An41Fv8u",
        "outputId": "09881e23-b47c-4937-ddf5-7b09ec2db333"
      },
      "execution_count": null,
      "outputs": [
        {
          "output_type": "execute_result",
          "data": {
            "text/plain": [
              "5"
            ]
          },
          "metadata": {},
          "execution_count": 48
        }
      ]
    },
    {
      "cell_type": "markdown",
      "source": [
        " In una catena di montaggio abbiamo una struttura metallica di 28.75 cm di lunghezza; per assicurarne la stabilità, è necessario inserire 15 rivetti, dei quali uno all'inizio e uno alla fine, e tutti quanti separati dalla stessa distanza; come possiamo calcolare i punti esatti in cui inserire i rivetti tramite NumPy?"
      ],
      "metadata": {
        "id": "xtLZAj8oKf5D"
      }
    },
    {
      "cell_type": "code",
      "source": [
        "print(np.linspace(0, 28.75,15)) #in questo caso 0 rappresenta il punto inziale, 28.75 è la distanza richiesta e 15 sono gli elementi da inserire"
      ],
      "metadata": {
        "colab": {
          "base_uri": "https://localhost:8080/"
        },
        "id": "fq_IfAJqG19N",
        "outputId": "917f6f5f-9743-44df-e474-853cf7e5844e"
      },
      "execution_count": null,
      "outputs": [
        {
          "output_type": "stream",
          "name": "stdout",
          "text": [
            "[ 0.          2.05357143  4.10714286  6.16071429  8.21428571 10.26785714\n",
            " 12.32142857 14.375      16.42857143 18.48214286 20.53571429 22.58928571\n",
            " 24.64285714 26.69642857 28.75      ]\n"
          ]
        }
      ]
    },
    {
      "cell_type": "markdown",
      "source": [
        "Creiamo un ndarray con gli stessi valori. Ci sono due modalità: inizializzare un array e poi inserire i valori nelle posizioni adatte, oppure creare una lista di liste e poi effettuare un casting."
      ],
      "metadata": {
        "id": "Vg1CaMavMAli"
      }
    },
    {
      "cell_type": "code",
      "source": [
        "# I modalità:\n",
        "#inizializzazione dell'array\n",
        "ar = np.array([1, 1, 1, 1, 5, 1, 1, 1, 20, -4, 0, 42])\n",
        "ar"
      ],
      "metadata": {
        "colab": {
          "base_uri": "https://localhost:8080/"
        },
        "id": "KJLUGx_wL7cX",
        "outputId": "288fd2d0-b53c-44c2-b6ed-8bb499cadf22"
      },
      "execution_count": null,
      "outputs": [
        {
          "output_type": "execute_result",
          "data": {
            "text/plain": [
              "array([ 1,  1,  1,  1,  5,  1,  1,  1, 20, -4,  0, 42])"
            ]
          },
          "metadata": {},
          "execution_count": 6
        }
      ]
    },
    {
      "cell_type": "code",
      "source": [
        "#trasformazione in matrice\n",
        "mat = ar.reshape(3,4)\n",
        "mat"
      ],
      "metadata": {
        "colab": {
          "base_uri": "https://localhost:8080/"
        },
        "id": "IIb9f0EZMBPd",
        "outputId": "a4b8f630-10c7-4553-f217-e797e4f23cc3"
      },
      "execution_count": null,
      "outputs": [
        {
          "output_type": "execute_result",
          "data": {
            "text/plain": [
              "array([[ 1,  1,  1,  1],\n",
              "       [ 5,  1,  1,  1],\n",
              "       [20, -4,  0, 42]])"
            ]
          },
          "metadata": {},
          "execution_count": 7
        }
      ]
    },
    {
      "cell_type": "code",
      "source": [
        "# II modalità:\n",
        "#creazione di una lista di liste\n",
        "ar = np.array([[1, 1, 1, 1,],[5, 1, 1, 1,],[20, -4, 0, 42]] )\n",
        "ar"
      ],
      "metadata": {
        "id": "5jM8w3VWOe0C",
        "colab": {
          "base_uri": "https://localhost:8080/"
        },
        "outputId": "fe61ac48-89de-4088-a533-7f856b4c9b4e"
      },
      "execution_count": null,
      "outputs": [
        {
          "output_type": "execute_result",
          "data": {
            "text/plain": [
              "array([[ 1,  1,  1,  1],\n",
              "       [ 5,  1,  1,  1],\n",
              "       [20, -4,  0, 42]])"
            ]
          },
          "metadata": {},
          "execution_count": 21
        }
      ]
    },
    {
      "cell_type": "markdown",
      "source": [
        "Creiamo l'array Per ogni valore, sottraiamo il minimo (2) e poi dividiamo il risultato per il massimo (42) meno il minimo."
      ],
      "metadata": {
        "id": "B21DGqsIWvtI"
      }
    },
    {
      "cell_type": "code",
      "source": [
        "ar2 = np.array([10, 22, 21, 8, 9, 9, 42, 3, 18, 11, 5, 4, 30, 12, 29, 37, 31, 7, 2, 26, 8, 6, 4, 33, 15])\n",
        "ar2"
      ],
      "metadata": {
        "colab": {
          "base_uri": "https://localhost:8080/"
        },
        "id": "EDELVN4aWXip",
        "outputId": "9deeffec-e3d3-4768-f9fa-46ae82a0859b"
      },
      "execution_count": null,
      "outputs": [
        {
          "output_type": "execute_result",
          "data": {
            "text/plain": [
              "array([10, 22, 21,  8,  9,  9, 42,  3, 18, 11,  5,  4, 30, 12, 29, 37, 31,\n",
              "        7,  2, 26,  8,  6,  4, 33, 15])"
            ]
          },
          "metadata": {},
          "execution_count": 53
        }
      ]
    },
    {
      "cell_type": "code",
      "source": [
        "minimo=ar2.min()\n",
        "minimo"
      ],
      "metadata": {
        "colab": {
          "base_uri": "https://localhost:8080/"
        },
        "id": "3UfVUwgoq4E8",
        "outputId": "91e30867-2d23-4524-b15a-0f0c50f03148"
      },
      "execution_count": null,
      "outputs": [
        {
          "output_type": "execute_result",
          "data": {
            "text/plain": [
              "2"
            ]
          },
          "metadata": {},
          "execution_count": 64
        }
      ]
    },
    {
      "cell_type": "code",
      "source": [
        "massimo=ar2.max()\n",
        "massimo"
      ],
      "metadata": {
        "colab": {
          "base_uri": "https://localhost:8080/"
        },
        "id": "FAbgi4QZrPk6",
        "outputId": "805e6c9d-259b-4003-b9eb-5bcaf285ddd1"
      },
      "execution_count": null,
      "outputs": [
        {
          "output_type": "execute_result",
          "data": {
            "text/plain": [
              "42"
            ]
          },
          "metadata": {},
          "execution_count": 65
        }
      ]
    },
    {
      "cell_type": "code",
      "source": [
        "for el in ar2:\n",
        "    risultato = el - minimo\n",
        "    risultato2= risultato/massimo\n",
        "    risultato3=risultato2-minimo\n",
        "    print(risultato3)"
      ],
      "metadata": {
        "colab": {
          "base_uri": "https://localhost:8080/"
        },
        "id": "ob0G-mF4pwmn",
        "outputId": "04c350b1-f84b-42af-d65d-6e9e754e0045"
      },
      "execution_count": null,
      "outputs": [
        {
          "output_type": "stream",
          "name": "stdout",
          "text": [
            "-1.8095238095238095\n",
            "-1.5238095238095237\n",
            "-1.5476190476190477\n",
            "-1.8571428571428572\n",
            "-1.8333333333333333\n",
            "-1.8333333333333333\n",
            "-1.0476190476190477\n",
            "-1.9761904761904763\n",
            "-1.619047619047619\n",
            "-1.7857142857142858\n",
            "-1.9285714285714286\n",
            "-1.9523809523809523\n",
            "-1.3333333333333335\n",
            "-1.7619047619047619\n",
            "-1.3571428571428572\n",
            "-1.1666666666666665\n",
            "-1.3095238095238095\n",
            "-1.880952380952381\n",
            "-2.0\n",
            "-1.4285714285714286\n",
            "-1.8571428571428572\n",
            "-1.9047619047619047\n",
            "-1.9523809523809523\n",
            "-1.2619047619047619\n",
            "-1.6904761904761905\n"
          ]
        }
      ]
    }
  ]
}